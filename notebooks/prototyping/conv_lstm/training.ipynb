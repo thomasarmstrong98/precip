{
 "cells": [
  {
   "cell_type": "code",
   "execution_count": 1,
   "metadata": {},
   "outputs": [],
   "source": [
    "import numpy as np\n",
    "import torch\n",
    "import torch.nn as nn\n",
    "import torch.optim as optim\n",
    "from torch.utils.data import DataLoader\n",
    "import matplotlib.pyplot as plt \n",
    "from tqdm import tqdm\n",
    "\n",
    "from contextlib import contextmanager\n",
    "\n",
    "import wandb\n",
    "import precip\n",
    "from precip.config import CONVLSTM_MODEL_CONFIG, BOUNDARY_CLASSIFICATION_LABEL, LOCAL_PRECIP_BOUNDARY_MASK\n",
    "from precip.data.dataset import SwedishPrecipitationDataset, InfiniteSampler\n",
    "from precip.models.conv_lstm.model import ConvLSTM, ConvLSTMCell\n",
    "\n",
    "# wandb.init(\n",
    "#     # set the wandb project where this run will be logged\n",
    "#     project=\"precip\",\n",
    "#     # track hyperparameters and run metadata\n",
    "#     config=CONVLSTM_MODEL_CONFIG.__dict__,\n",
    "# )\n",
    "\n",
    "device = torch.device(\"cuda\" if torch.cuda.is_available() else \"cpu\")"
   ]
  },
  {
   "cell_type": "code",
   "execution_count": 2,
   "metadata": {},
   "outputs": [],
   "source": [
    "training_dataset = SwedishPrecipitationDataset(split=\"train\", scale=True)\n",
    "validation_dataset = SwedishPrecipitationDataset(split=\"val\", scale=True)\n",
    "\n",
    "training_sampler = InfiniteSampler(training_dataset, shuffle=True)\n",
    "validation_sampler = InfiniteSampler(validation_dataset, shuffle=True)\n",
    "\n",
    "dataloader = DataLoader(training_dataset, sampler=training_sampler, batch_size=2, num_workers=12)\n",
    "val_dataloader = DataLoader(validation_dataset, sampler=validation_sampler, batch_size=2, num_workers=12)\n",
    "train_dataiter, val_dataiter = iter(dataloader), ACiter(val_dataloader)"
   ]
  },
  {
   "cell_type": "code",
   "execution_count": 6,
   "metadata": {},
   "outputs": [],
   "source": [
    "def npy_loader(path):\n",
    "    sample = torch.from_numpy(np.load(path))\n",
    "    return sample\n",
    "\n",
    "\n",
    "\n",
    "class Model(nn.Module):\n",
    "    def __init__(self, input_channels, hidden_channels, kernel_size, num_layers, mask: torch.Tensor, upscale: float=255.0) -> None:\n",
    "        super().__init__()\n",
    "\n",
    "        self.lstm_model = ConvLSTM(\n",
    "            input_channel=input_channels,\n",
    "            hidden_channel=hidden_channels,\n",
    "            kernel_size=kernel_size,\n",
    "            num_layers=num_layers,\n",
    "            batch_first=True,\n",
    "            return_all_layers=False,\n",
    "        )\n",
    "        self.out_conv = nn.ConvTranspose2d(hidden_channels[-1], 1, kernel_size=(3, 3), padding=1)\n",
    "        # self.mask = mask\n",
    "        # self.upscale = upscale\n",
    "\n",
    "    def forward(self, x):\n",
    "        _, x = self.lstm_model(x)\n",
    "        x = self.out_conv(x[0][0]).squeeze(1)\n",
    "        # x *= self.upscale  # move from [0, 1] back to [0, 255]\n",
    "        # x = x.int()\n",
    "        # x = torch.where(~self.mask.to(device), x, BOUNDARY_CLASSIFICATION_LABEL)\n",
    "        return x\n",
    "\n",
    "mask = npy_loader(LOCAL_PRECIP_BOUNDARY_MASK)\n",
    "model = Model(input_channels=1, hidden_channels=[64], kernel_size=(3, 3), num_layers=1, mask=mask).to(\n",
    "    device\n",
    ")\n",
    "\n",
    "loss = nn.MSELoss()\n",
    "optimizer = optim.Adam(\n",
    "    model.parameters(),\n",
    "    lr=CONVLSTM_MODEL_CONFIG.lr,\n",
    "    weight_decay=CONVLSTM_MODEL_CONFIG.weight_decay,\n",
    ")\n",
    "scheduler = optim.lr_scheduler.ExponentialLR(\n",
    "    optimizer, gamma=CONVLSTM_MODEL_CONFIG.lr_scheduler_gamma\n",
    ")\n",
    "\n",
    "\n",
    "def train(number_of_batches: int = 100) -> float:\n",
    "    model.train()\n",
    "    loss_history = list()\n",
    "\n",
    "    for _ in tqdm(range(number_of_batches)):\n",
    "        (batch_X, batch_y) = next(train_dataiter)\n",
    "        batch_X, batch_y = batch_X.to(device), batch_y.to(device)\n",
    "        optimizer.zero_grad()\n",
    "        out = model(batch_X)\n",
    "        _loss = loss(out, batch_y)\n",
    "        _loss.backward()\n",
    "        optimizer.step()\n",
    "        loss_history.append(_loss.item())\n",
    "\n",
    "    return np.mean(loss_history)\n",
    "\n",
    "@torch.no_grad()\n",
    "def test(number_of_batches: int = 50) -> float:\n",
    "    model.eval()\n",
    "    validation_loss_history = list()\n",
    "\n",
    "    for _ in tqdm(range(number_of_batches)):\n",
    "        batch_X, batch_y = next(val_dataiter)\n",
    "        batch_X, batch_y = batch_X.to(device), batch_y.to(device)\n",
    "        out = model(batch_X)\n",
    "        validation_loss_history.append(loss(out, batch_y).item())\n",
    "    return np.mean(validation_loss_history)\n",
    "\n",
    "\n",
    "\n",
    "\n",
    "\n",
    "def loop():\n",
    "    from pathlib import Path\n",
    "    import random\n",
    "    import string\n",
    "    \n",
    "    folder_name = Path(precip.__file__ ).parent / 'checkpoints' / '2023_08_28_'.join(random.choices(string.ascii_uppercase + string.digits, k=5)))\n",
    "    folder_name.mkdir(parents=True, exist_ok=True)\n",
    "    \n",
    "    batch_size = 2\n",
    "    training_batches_per_step = 500\n",
    "    \n",
    "    train_loss = list()\n",
    "    val_loss = list()\n",
    "    \n",
    "    for step_num in range(20):\n",
    "        \n",
    "        number_of_observations = batch_size*training_batches_per_step*step_num\n",
    "        \n",
    "        t, v = train(), test()\n",
    "        print(t, v)\n",
    "        train_loss.append(t)\n",
    "        val_loss.append(v)\n",
    "        \n",
    "        torch.save({\n",
    "            'total_number_observations': 500,\n",
    "            'model_state_dict': model.state_dict(),\n",
    "            'optimizer_state_dict': optimizer.state_dict(),\n",
    "            'train_loss': t,\n",
    "            'val_loss': v\n",
    "        }, folder_name / f'step_num_{step_num}')\n",
    "        \n",
    "        \n",
    "    return train_loss, val_loss\n",
    "        "
   ]
  },
  {
   "cell_type": "code",
   "execution_count": 12,
   "metadata": {},
   "outputs": [
    {
     "name": "stdout",
     "output_type": "stream",
     "text": [
      "model size: 0.574MB\n"
     ]
    }
   ],
   "source": [
    "param_size = 0\n",
    "for param in model.parameters():\n",
    "    param_size += param.nelement() * param.element_size()\n",
    "buffer_size = 0\n",
    "for buffer in model.buffers():\n",
    "    buffer_size += buffer.nelement() * buffer.element_size()\n",
    "\n",
    "size_all_mb = (param_size + buffer_size) / 1024**2\n",
    "print('model size: {:.3f}MB'.format(size_all_mb))"
   ]
  },
  {
   "cell_type": "code",
   "execution_count": 7,
   "metadata": {},
   "outputs": [
    {
     "name": "stderr",
     "output_type": "stream",
     "text": [
      "100%|██████████| 100/100 [01:03<00:00,  1.59it/s]\n",
      "100%|██████████| 50/50 [00:10<00:00,  4.66it/s]\n"
     ]
    },
    {
     "name": "stdout",
     "output_type": "stream",
     "text": [
      "5745.122053527832 535.699476928711\n"
     ]
    },
    {
     "name": "stderr",
     "output_type": "stream",
     "text": [
      "100%|██████████| 100/100 [01:03<00:00,  1.58it/s]\n",
      "100%|██████████| 50/50 [00:10<00:00,  4.77it/s]\n"
     ]
    },
    {
     "name": "stdout",
     "output_type": "stream",
     "text": [
      "266.15434631347654 361.53385162353516\n"
     ]
    },
    {
     "name": "stderr",
     "output_type": "stream",
     "text": [
      "100%|██████████| 100/100 [01:02<00:00,  1.59it/s]\n",
      "100%|██████████| 50/50 [00:10<00:00,  4.76it/s]\n"
     ]
    },
    {
     "name": "stdout",
     "output_type": "stream",
     "text": [
      "238.63903533935547 389.0598791503906\n"
     ]
    },
    {
     "name": "stderr",
     "output_type": "stream",
     "text": [
      "100%|██████████| 100/100 [01:02<00:00,  1.59it/s]\n",
      "100%|██████████| 50/50 [00:10<00:00,  4.76it/s]\n"
     ]
    },
    {
     "name": "stdout",
     "output_type": "stream",
     "text": [
      "235.84532165527344 361.4779635620117\n"
     ]
    },
    {
     "name": "stderr",
     "output_type": "stream",
     "text": [
      "100%|██████████| 100/100 [01:02<00:00,  1.59it/s]\n",
      "100%|██████████| 50/50 [00:10<00:00,  4.74it/s]\n"
     ]
    },
    {
     "name": "stdout",
     "output_type": "stream",
     "text": [
      "229.62707565307616 338.08379821777345\n"
     ]
    },
    {
     "name": "stderr",
     "output_type": "stream",
     "text": [
      "100%|██████████| 100/100 [01:03<00:00,  1.58it/s]\n",
      "100%|██████████| 50/50 [00:10<00:00,  4.72it/s]\n"
     ]
    },
    {
     "name": "stdout",
     "output_type": "stream",
     "text": [
      "227.91693756103516 417.31300537109377\n"
     ]
    },
    {
     "name": "stderr",
     "output_type": "stream",
     "text": [
      "100%|██████████| 100/100 [01:03<00:00,  1.58it/s]\n",
      "100%|██████████| 50/50 [00:10<00:00,  4.72it/s]\n"
     ]
    },
    {
     "name": "stdout",
     "output_type": "stream",
     "text": [
      "229.66391830444337 463.54387939453125\n"
     ]
    },
    {
     "name": "stderr",
     "output_type": "stream",
     "text": [
      "100%|██████████| 100/100 [01:03<00:00,  1.58it/s]\n",
      "100%|██████████| 50/50 [00:10<00:00,  4.74it/s]\n"
     ]
    },
    {
     "name": "stdout",
     "output_type": "stream",
     "text": [
      "231.30777481079102 263.7325479125977\n"
     ]
    },
    {
     "name": "stderr",
     "output_type": "stream",
     "text": [
      "100%|██████████| 100/100 [01:03<00:00,  1.58it/s]\n",
      "100%|██████████| 50/50 [00:10<00:00,  4.69it/s]\n"
     ]
    },
    {
     "name": "stdout",
     "output_type": "stream",
     "text": [
      "223.78089782714844 383.58264587402346\n"
     ]
    },
    {
     "name": "stderr",
     "output_type": "stream",
     "text": [
      "100%|██████████| 100/100 [01:03<00:00,  1.58it/s]\n",
      "100%|██████████| 50/50 [00:10<00:00,  4.74it/s]\n"
     ]
    },
    {
     "name": "stdout",
     "output_type": "stream",
     "text": [
      "222.16931671142578 261.89396606445314\n"
     ]
    },
    {
     "name": "stderr",
     "output_type": "stream",
     "text": [
      "100%|██████████| 100/100 [01:03<00:00,  1.58it/s]\n",
      "100%|██████████| 50/50 [00:10<00:00,  4.74it/s]\n"
     ]
    },
    {
     "name": "stdout",
     "output_type": "stream",
     "text": [
      "218.9306642150879 353.68738220214846\n"
     ]
    },
    {
     "name": "stderr",
     "output_type": "stream",
     "text": [
      "100%|██████████| 100/100 [01:00<00:00,  1.67it/s]\n",
      "100%|██████████| 50/50 [00:09<00:00,  5.13it/s]\n"
     ]
    },
    {
     "name": "stdout",
     "output_type": "stream",
     "text": [
      "213.11923294067384 313.71123779296875\n"
     ]
    },
    {
     "name": "stderr",
     "output_type": "stream",
     "text": [
      "100%|██████████| 100/100 [00:58<00:00,  1.72it/s]\n",
      "100%|██████████| 50/50 [00:09<00:00,  5.13it/s]\n"
     ]
    },
    {
     "name": "stdout",
     "output_type": "stream",
     "text": [
      "210.194513092041 280.6427456665039\n"
     ]
    },
    {
     "name": "stderr",
     "output_type": "stream",
     "text": [
      "100%|██████████| 100/100 [00:58<00:00,  1.72it/s]\n",
      "100%|██████████| 50/50 [00:09<00:00,  5.13it/s]\n"
     ]
    },
    {
     "name": "stdout",
     "output_type": "stream",
     "text": [
      "206.13175552368165 349.88097198486327\n"
     ]
    },
    {
     "name": "stderr",
     "output_type": "stream",
     "text": [
      "100%|██████████| 100/100 [00:58<00:00,  1.72it/s]\n",
      "100%|██████████| 50/50 [00:09<00:00,  5.08it/s]\n"
     ]
    },
    {
     "name": "stdout",
     "output_type": "stream",
     "text": [
      "194.72179855346678 326.0681336975098\n"
     ]
    },
    {
     "name": "stderr",
     "output_type": "stream",
     "text": [
      "100%|██████████| 100/100 [01:02<00:00,  1.59it/s]\n",
      "100%|██████████| 50/50 [00:10<00:00,  4.66it/s]\n"
     ]
    },
    {
     "name": "stdout",
     "output_type": "stream",
     "text": [
      "198.59615051269532 397.8452195739746\n"
     ]
    },
    {
     "name": "stderr",
     "output_type": "stream",
     "text": [
      "100%|██████████| 100/100 [01:04<00:00,  1.56it/s]\n",
      "100%|██████████| 50/50 [00:10<00:00,  4.63it/s]\n"
     ]
    },
    {
     "name": "stdout",
     "output_type": "stream",
     "text": [
      "325.30607009887694 337.730100402832\n"
     ]
    },
    {
     "name": "stderr",
     "output_type": "stream",
     "text": [
      "100%|██████████| 100/100 [01:05<00:00,  1.54it/s]\n",
      "100%|██████████| 50/50 [00:10<00:00,  4.57it/s]\n"
     ]
    },
    {
     "name": "stdout",
     "output_type": "stream",
     "text": [
      "211.4642805480957 363.0515841674805\n"
     ]
    },
    {
     "name": "stderr",
     "output_type": "stream",
     "text": [
      "100%|██████████| 100/100 [01:05<00:00,  1.53it/s]\n",
      "100%|██████████| 50/50 [00:10<00:00,  4.61it/s]\n"
     ]
    },
    {
     "name": "stdout",
     "output_type": "stream",
     "text": [
      "197.3426628112793 394.045277557373\n"
     ]
    },
    {
     "name": "stderr",
     "output_type": "stream",
     "text": [
      "100%|██████████| 100/100 [01:05<00:00,  1.52it/s]\n",
      "100%|██████████| 50/50 [00:10<00:00,  4.55it/s]"
     ]
    },
    {
     "name": "stdout",
     "output_type": "stream",
     "text": [
      "188.9892205810547 394.89374099731447\n"
     ]
    },
    {
     "name": "stderr",
     "output_type": "stream",
     "text": [
      "\n"
     ]
    }
   ],
   "source": [
    "train_loss, val_loss = loop()"
   ]
  },
  {
   "cell_type": "code",
   "execution_count": 11,
   "metadata": {},
   "outputs": [
    {
     "data": {
      "text/plain": [
       "[<matplotlib.lines.Line2D at 0x7f72f085d5a0>]"
      ]
     },
     "execution_count": 11,
     "metadata": {},
     "output_type": "execute_result"
    },
    {
     "data": {
      "image/png": "[encoded data removed]",
      "text/plain": [
       "<Figure size 640x480 with 1 Axes>"
      ]
     },
     "metadata": {},
     "output_type": "display_data"
    }
   ],
   "source": [
    "plt.semilogy(train_loss)\n",
    "plt.semilogy(val_loss)"
   ]
  },
  {
   "cell_type": "code",
   "execution_count": null,
   "metadata": {},
   "outputs": [],
   "source": []
  }
 ],
 "metadata": {
  "kernelspec": {
   "display_name": "mlpg_pyt",
   "language": "python",
   "name": "python3"
  },
  "language_info": {
   "codemirror_mode": {
    "name": "ipython",
    "version": 3
   },
   "file_extension": ".py",
   "mimetype": "text/x-python",
   "name": "python",
   "nbconvert_exporter": "python",
   "pygments_lexer": "ipython3",
   "version": "3.10.12"
  },
  "orig_nbformat": 4,
  "vscode": {
   "interpreter": {
    "hash": "d5b601351fb60a431cdc07ba53c0fbbc9c4bb6b4e8b310b496b919e938f59dd2"
   }
  }
 },
 "nbformat": 4,
 "nbformat_minor": 2
}
