{
 "cells": [
  {
   "cell_type": "code",
   "execution_count": 1,
   "metadata": {},
   "outputs": [],
   "source": [
    "import numpy as np\n",
    "import torch\n",
    "import torch.nn as nn\n",
    "import torch.optim as optim\n",
    "from torch.utils.data import DataLoader\n",
    "import matplotlib.pyplot as plt \n",
    "from tqdm import tqdm\n",
    "\n",
    "import wandb\n",
    "from precip.config import CONVLSTM_MODEL_CONFIG, BOUNDARY_CLASSIFICATION_LABEL, LOCAL_PRECIP_DATA_AVERAGES\n",
    "from precip.data.dataset import SwedishPrecipitationDataset\n",
    "from precip.models.conv_lstm.model import ConvLSTM, ConvLSTMCell\n",
    "\n",
    "# wandb.init(\n",
    "#     # set the wandb project where this run will be logged\n",
    "#     project=\"precip\",\n",
    "#     # track hyperparameters and run metadata\n",
    "#     config=CONVLSTM_MODEL_CONFIG.__dict__,\n",
    "# )\n",
    "\n",
    "device = torch.device(\"cuda\" if torch.cuda.is_available() else \"cpu\")"
   ]
  },
  {
   "cell_type": "code",
   "execution_count": 2,
   "metadata": {},
   "outputs": [],
   "source": [
    "# class Model(nn.Module):\n",
    "#     def __init__(self, input_channels, hidden_channels, kernel_size, num_layers) -> None:\n",
    "#         super().__init__()\n",
    "\n",
    "#         self.lstm_model = ConvLSTM(\n",
    "#             input_channel=input_channels,\n",
    "#             hidden_channel=hidden_channels,\n",
    "#             kernel_size=kernel_size,\n",
    "#             num_layers=num_layers,\n",
    "#             batch_first=True,\n",
    "#             return_all_layers=False,\n",
    "#         )\n",
    "#         self.out_conv = nn.ConvTranspose2d(64, 1, kernel_size=(3, 3), padding=1)\n",
    "\n",
    "#     def forward(self, x):\n",
    "#         _, x = self.lstm_model(x)\n",
    "#         return self.out_conv(x[0][0]).squeeze(1)\n",
    "    \n",
    "\n",
    "# class ModelDiscretizedOutput(nn.Module):\n",
    "#     def __init__(self, input_channels, hidden_channels, kernel_size, num_layers, mask: torch.Tensor, upscale: float = 255) -> None:\n",
    "#         super().__init__()\n",
    "\n",
    "#         self.lstm_model = ConvLSTM(\n",
    "#             input_channel=input_channels,\n",
    "#             hidden_channel=hidden_channels,\n",
    "#             kernel_size=kernel_size,\n",
    "#             num_layers=num_layers,\n",
    "#             batch_first=True,\n",
    "#             return_all_layers=False,\n",
    "#         )\n",
    "#         self.out_conv = nn.ConvTranspose2d(64, 1, kernel_size=(3, 3), padding=1)\n",
    "#         self.upscale = upscale\n",
    "#         self.mask = mask\n",
    "\n",
    "#     def forward(self, x):\n",
    "#         _, x = self.lstm_model(x)\n",
    "#         x = self.out_conv(x[0][0]).squeeze(1)\n",
    "#         x *= self.upscale  # move from [0, 1] back to [0, 255]\n",
    "#         x = x.int()\n",
    "#         x = torch.where(~self.mask.to(device), x, BOUNDARY_CLASSIFICATION_LABEL)\n",
    "#         return x\n",
    "\n",
    "\n",
    "\n",
    "\n",
    "def delete(arr: torch.Tensor, ind: int, dim: int) -> torch.Tensor:\n",
    "    skip = [i for i in range(arr.size(dim)) if i != ind]\n",
    "    indices = [slice(None) if i != dim else skip for i in range(arr.ndim)]\n",
    "    return arr.__getitem__(indices)\n",
    "\n",
    "\n",
    "\n",
    "class ModelDiscretizedOutput(nn.Module):\n",
    "    def __init__(self, input_channels, hidden_channels, kernel_size, num_layers, mask: torch.Tensor, upscale: float = 255) -> None:\n",
    "        super().__init__()\n",
    "\n",
    "        self.lstm_model = ConvLSTM(\n",
    "            input_channel=input_channels,\n",
    "            hidden_channel=hidden_channels,\n",
    "            kernel_size=kernel_size,\n",
    "            num_layers=num_layers,\n",
    "            batch_first=True,\n",
    "            return_all_layers=False,\n",
    "        )\n",
    "        self.out_conv = nn.ConvTranspose2d(64, 256, kernel_size=(3, 3), padding=1)\n",
    "        self.upscale = upscale\n",
    "        self.mask = mask\n",
    "        \n",
    "        self.boundary_slice_index = 255\n",
    "        self.non_boundary_slice_indices = list(range(0, 256)).remove(255)\n",
    "\n",
    "    def forward(self, x):\n",
    "        _, x = self.lstm_model(x)\n",
    "        x = self.out_conv(x[0][0]).squeeze(1)\n",
    "\n",
    "        # for the boundary, directly set probability\n",
    "        x[:, self.boundary_slice_index, ...] = torch.where(~self.mask.to(device), x[:, self.boundary_slice_index, ...], torch.inf)\n",
    "        x[:, self.non_boundary_slice_indices, ...] = torch.where(~self.mask.to(device), x[:, self.non_boundary_slice_indices , ...], -1*torch.inf)\n",
    "        return x\n",
    "\n",
    "training_dataset = SwedishPrecipitationDataset(split=\"train\", scale=True)\n",
    "validation_dataset = SwedishPrecipitationDataset(split=\"val\", scale=True)\n",
    "\n",
    "dataloader = DataLoader(training_dataset, batch_size=2, shuffle=True, num_workers=12)\n",
    "val_dataloader = DataLoader(validation_dataset, batch_size=2, shuffle=True, num_workers=12)\n",
    "\n",
    "\n",
    "\n",
    "# model = Model(input_channels=1, hidden_channels=[64], kernel_size=(3, 3), num_layers=1).to(\n",
    "#     device\n",
    "# )\n",
    "\n",
    "# loss = nn.MSELoss()\n",
    "# optimizer = optim.Adam(\n",
    "#     model.parameters(),\n",
    "#     lr=CONVLSTM_MODEL_CONFIG.lr,\n",
    "#     weight_decay=CONVLSTM_MODEL_CONFIG.weight_decay,\n",
    "# )\n",
    "# scheduler = optim.lr_scheduler.ExponentialLR(\n",
    "#     optimizer, gamma=CONVLSTM_MODEL_CONFIG.lr_scheduler_gamma\n",
    "# )\n",
    "\n",
    "# def train():\n",
    "#     model.train()\n",
    "#     loss_history = list()\n",
    "\n",
    "#     for batch_index, (batch_X, batch_y) in tqdm(enumerate(dataloader), total=len(dataloader)):\n",
    "#         batch_X, batch_y = batch_X.to(device), batch_y.to(device)\n",
    "#         optimizer.zero_grad()\n",
    "#         out = model(batch_X)\n",
    "#         _loss = loss(out, batch_y)\n",
    "#         _loss.backward()\n",
    "#         optimizer.step()\n",
    "\n",
    "#         if batch_index % 10 == 0:\n",
    "#             loss_history.append(_loss.item())\n",
    "\n",
    "#     return loss_history\n",
    "\n",
    "# @torch.no_grad()\n",
    "# def test():\n",
    "#     model.eval()\n",
    "#     validation_loss_history = list()\n",
    "\n",
    "#     for _, (batch_X, batch_y) in enumerate(val_dataloader):\n",
    "#         batch_X, batch_y = batch_X.to(device), batch_y.to(device)\n",
    "#         out = model(batch_X)\n",
    "#         validation_loss_history.append(loss(out, batch_y).item())\n",
    "#     return validation_loss_history\n"
   ]
  },
  {
   "cell_type": "code",
   "execution_count": 3,
   "metadata": {},
   "outputs": [
    {
     "name": "stderr",
     "output_type": "stream",
     "text": [
      "  0%|          | 0/2470 [00:00<?, ?it/s]\n"
     ]
    }
   ],
   "source": [
    "for batch_index, (batch_X, batch_y) in tqdm(enumerate(dataloader), total=len(dataloader)):\n",
    "    break"
   ]
  },
  {
   "cell_type": "code",
   "execution_count": 4,
   "metadata": {},
   "outputs": [
    {
     "data": {
      "text/plain": [
       "<matplotlib.image.AxesImage at 0x7fe7f3b18dc0>"
      ]
     },
     "execution_count": 4,
     "metadata": {},
     "output_type": "execute_result"
    },
    {
     "data": {
      "image/png": "[encoded data removed]",
      "text/plain": [
       "<Figure size 640x480 with 1 Axes>"
      ]
     },
     "metadata": {},
     "output_type": "display_data"
    }
   ],
   "source": [
    "plt.imshow(batch_X[1, 2, 0].numpy())"
   ]
  },
  {
   "cell_type": "code",
   "execution_count": 5,
   "metadata": {},
   "outputs": [],
   "source": [
    "def npy_loader(path):\n",
    "    sample = torch.from_numpy(np.load(path))\n",
    "    return sample\n",
    "\n",
    "mask = npy_loader('/home/tom/local_data/sweden_precip_observation_boundaries.npy')\n",
    "averages = npy_loader(LOCAL_PRECIP_DATA_AVERAGES)\n",
    "\n",
    "model = ModelDiscretizedOutput(input_channels=1, hidden_channels=[64], kernel_size=(3, 3), num_layers=1, mask=mask.to(device)).to(\n",
    "    device\n",
    ")"
   ]
  },
  {
   "cell_type": "code",
   "execution_count": 6,
   "metadata": {},
   "outputs": [],
   "source": [
    "y = model(batch_X.to(device))"
   ]
  },
  {
   "cell_type": "code",
   "execution_count": 8,
   "metadata": {},
   "outputs": [
    {
     "data": {
      "text/plain": [
       "tensor([[[255., 255., 255.,  ..., 255., 255., 255.],\n",
       "         [255., 255., 255.,  ..., 255., 255., 255.],\n",
       "         [255., 255., 255.,  ..., 255., 255., 255.],\n",
       "         ...,\n",
       "         [255., 255., 255.,  ..., 255., 255., 255.],\n",
       "         [255., 255., 255.,  ..., 255., 255., 255.],\n",
       "         [255., 255., 255.,  ..., 255., 255., 255.]],\n",
       "\n",
       "        [[255., 255., 255.,  ..., 255., 255., 255.],\n",
       "         [255., 255., 255.,  ..., 255., 255., 255.],\n",
       "         [255., 255., 255.,  ..., 255., 255., 255.],\n",
       "         ...,\n",
       "         [255., 255., 255.,  ..., 255., 255., 255.],\n",
       "         [255., 255., 255.,  ..., 255., 255., 255.],\n",
       "         [255., 255., 255.,  ..., 255., 255., 255.]]])"
      ]
     },
     "execution_count": 8,
     "metadata": {},
     "output_type": "execute_result"
    }
   ],
   "source": [
    "batch_y"
   ]
  },
  {
   "cell_type": "code",
   "execution_count": null,
   "metadata": {},
   "outputs": [],
   "source": []
  }
 ],
 "metadata": {
  "kernelspec": {
   "display_name": "mlpg_pyt",
   "language": "python",
   "name": "python3"
  },
  "language_info": {
   "codemirror_mode": {
    "name": "ipython",
    "version": 3
   },
   "file_extension": ".py",
   "mimetype": "text/x-python",
   "name": "python",
   "nbconvert_exporter": "python",
   "pygments_lexer": "ipython3",
   "version": "3.10.12"
  },
  "orig_nbformat": 4,
  "vscode": {
   "interpreter": {
    "hash": "d5b601351fb60a431cdc07ba53c0fbbc9c4bb6b4e8b310b496b919e938f59dd2"
   }
  }
 },
 "nbformat": 4,
 "nbformat_minor": 2
}
