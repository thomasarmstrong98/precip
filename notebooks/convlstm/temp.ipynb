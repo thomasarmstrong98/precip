{
 "cells": [
  {
   "cell_type": "code",
   "execution_count": 14,
   "metadata": {},
   "outputs": [],
   "source": [
    "import torch\n",
    "from torch import nn, optim\n",
    "import numpy as np\n",
    "import matplotlib.pyplot as plt"
   ]
  },
  {
   "cell_type": "code",
   "execution_count": 96,
   "metadata": {},
   "outputs": [],
   "source": [
    "from typing import Any, List, Optional, Tuple\n",
    "\n",
    "import torch\n",
    "import torch.nn as nn\n",
    "from einops import rearrange\n",
    "from torch import Tensor\n",
    "\n",
    "\n",
    "class ConvLSTMCell(nn.Module):\n",
    "    \"\"\"ConvLSTM Cell\"\"\"\n",
    "\n",
    "    def __init__(\n",
    "        self,\n",
    "        input_channel: int,\n",
    "        hidden_channel: int,\n",
    "        kernel_size: int,\n",
    "        bias=True,\n",
    "        activation=torch.tanh,\n",
    "        batchnorm=False,\n",
    "    ):\n",
    "        \"\"\"\n",
    "        ConLSTM Cell\n",
    "\n",
    "        Args:\n",
    "            input_channel: Number of input channels\n",
    "            hidden_channel: Number of hidden channels\n",
    "            kernel_size: Kernel size\n",
    "            bias: Whether to add bias\n",
    "            activation: Activation to use\n",
    "            batchnorm: Whether to use batch norm\n",
    "        \"\"\"\n",
    "        super().__init__()\n",
    "\n",
    "        self.input_channel = input_channel\n",
    "        self.hidden_channel = hidden_channel\n",
    "\n",
    "        self.kernel_size = kernel_size\n",
    "        self.bias = bias\n",
    "        self.activation = activation\n",
    "        self.batchnorm = batchnorm\n",
    "\n",
    "        self.conv = nn.Conv2d(\n",
    "            in_channels=self.input_channel + self.hidden_channel,\n",
    "            out_channels=4 * self.hidden_channel,\n",
    "            kernel_size=self.kernel_size,\n",
    "            padding=(self.kernel_size //2, self.kernel_size //2),\n",
    "            bias=self.bias,\n",
    "            padding_mode=\"replicate\"\n",
    "        )\n",
    "\n",
    "        self.reset_parameters()\n",
    "\n",
    "    def forward(self, x: torch.Tensor, prev_state: list) -> tuple[torch.Tensor, torch.Tensor]:\n",
    "        \"\"\"\n",
    "        Compute forward pass\n",
    "\n",
    "        Args:\n",
    "            x: Input tensor of [Batch, Channel, Height, Width]\n",
    "            prev_state: Previous hidden state\n",
    "\n",
    "        Returns:\n",
    "            The new hidden state and output\n",
    "        \"\"\"\n",
    "        h_prev, c_prev = prev_state\n",
    "\n",
    "        combined = torch.cat((x, h_prev), dim=1)  # concatenate along channel axis\n",
    "        combined_conv = self.conv(combined)\n",
    "\n",
    "        cc_i, cc_f, cc_o, cc_g = torch.split(combined_conv, self.hidden_channel, dim=1)\n",
    "\n",
    "        i = torch.sigmoid(cc_i)\n",
    "        f = torch.sigmoid(cc_f)\n",
    "\n",
    "        g = self.activation(cc_g)\n",
    "        c_cur = f * c_prev + i * g\n",
    "\n",
    "        o = torch.sigmoid(cc_o)\n",
    "\n",
    "        h_cur = o * self.activation(c_cur)\n",
    "\n",
    "        return h_cur, c_cur\n",
    "\n",
    "    def init_hidden(self, x: torch.Tensor) -> tuple[torch.Tensor, torch.Tensor]:\n",
    "        \"\"\"\n",
    "        Initializes the hidden state\n",
    "        Args:\n",
    "            x: Input tensor to initialize for\n",
    "\n",
    "        Returns:\n",
    "            Tuple containing the hidden states\n",
    "        \"\"\"\n",
    "        b, c, h, w = x.size()  # c = 1 even if using grayscale inputs\n",
    "        state = (\n",
    "            torch.zeros(b, self.hidden_channel, h, w),\n",
    "            torch.zeros(b, self.hidden_channel, h, w),\n",
    "        )\n",
    "        state = (state[0].type_as(x), state[1].type_as(x))\n",
    "        return state\n",
    "\n",
    "    def reset_parameters(self) -> None:\n",
    "        \"\"\"Resets parameters\"\"\"\n",
    "        nn.init.xavier_uniform_(self.conv.weight, gain=nn.init.calculate_gain(\"tanh\"))\n",
    "        if self.bias:\n",
    "            self.conv.bias.data.zero_()\n",
    "        \n",
    "        \n",
    "class ConvLSTM(nn.Module):\n",
    "    def __init__(\n",
    "        self, \n",
    "        input_channels: int,\n",
    "        hidden_channels: int,\n",
    "        kernel_size: int, \n",
    "        num_layers: int, \n",
    "        bias: bool = False,\n",
    "        activation = torch.tanh,\n",
    "        return_state_history: bool = False\n",
    "    ):\n",
    "        super().__init__()\n",
    "        self.input_channels = input_channels\n",
    "        self.hidden_channels = hidden_channels\n",
    "        self.kernel_size = kernel_size\n",
    "        self.activation = activation\n",
    "        self.num_layers = num_layers\n",
    "        self.bias = bias\n",
    "        self.return_state_history = return_state_history\n",
    "        \n",
    "        self.cells = nn.ModuleList([])\n",
    "        \n",
    "        for step in range(self.num_layers):\n",
    "            self.cells.append(\n",
    "                ConvLSTMCell(\n",
    "                    input_channel=self.input_channels if step == 0 else self.hidden_channels,\n",
    "                    hidden_channel=self.hidden_channels,\n",
    "                    kernel_size=self.kernel_size,\n",
    "                    bias=self.bias,\n",
    "                    activation=activation,\n",
    "                )\n",
    "            )\n",
    "            \n",
    "    def forward(\n",
    "        self, x: torch.Tensor, hidden_state: Optional[list] = None\n",
    "    ) -> tuple[Tensor, Optional[list[tuple[Tensor, Tensor]]]]:\n",
    "        \"\"\"\n",
    "        Computes the output of the ConvLSTM\n",
    "\n",
    "        Args:\n",
    "            x: Input Tensor of shape [Batch, Time, Channel, Width, Height]\n",
    "            hidden_state: List of hidden states to use, if none passed, it will be generated\n",
    "\n",
    "        Returns:\n",
    "            The layer outputs and list of last states\n",
    "        \"\"\"\n",
    "        current_layer_input = torch.unbind(x, dim=1)  # T x (B, C, H, W)\n",
    "        \n",
    "        if hidden_state is None:\n",
    "            hidden_state = self.cells[0].init_hidden(current_layer_input[0])        \n",
    "        h, c = hidden_state\n",
    "        \n",
    "        if self.return_state_history:\n",
    "            last_state_list = list()\n",
    "        else:\n",
    "            last_state_list = None\n",
    "\n",
    "        for layer in range(self.num_layers):\n",
    "            output_inner = list()\n",
    "            \n",
    "            for t in range(len(current_layer_input)):\n",
    "                h, c = self.cells[layer](x=current_layer_input[t], prev_state=[h, c])\n",
    "                output_inner.append(h)\n",
    "\n",
    "            current_layer_input = output_inner\n",
    "            \n",
    "            if self.return_state_history:\n",
    "                last_state_list.append((h, c))\n",
    "\n",
    "        layer_output = torch.stack(output_inner, dim=1)\n",
    "        return layer_output, last_state_list"
   ]
  },
  {
   "cell_type": "code",
   "execution_count": 103,
   "metadata": {},
   "outputs": [],
   "source": [
    "x = torch.rand((8, 10, 16, 256, 256))\n",
    "\n",
    "model = ConvLSTM(16, 8, 3, 3)"
   ]
  },
  {
   "cell_type": "code",
   "execution_count": 104,
   "metadata": {},
   "outputs": [],
   "source": [
    "layer_output, last_state_list = model(x)"
   ]
  },
  {
   "cell_type": "code",
   "execution_count": 105,
   "metadata": {},
   "outputs": [
    {
     "data": {
      "text/plain": [
       "torch.Size([8, 10, 8, 256, 256])"
      ]
     },
     "execution_count": 105,
     "metadata": {},
     "output_type": "execute_result"
    }
   ],
   "source": [
    "layer_output.shape"
   ]
  },
  {
   "cell_type": "code",
   "execution_count": 94,
   "metadata": {},
   "outputs": [],
   "source": [
    "x = torch.rand((8, 10, 16, 256, 256))\n",
    "cur_layer_input = torch.unbind(x, dim=1)"
   ]
  },
  {
   "cell_type": "code",
   "execution_count": 83,
   "metadata": {},
   "outputs": [
    {
     "data": {
      "text/plain": [
       "torch.Size([8, 10, 16, 256, 256])"
      ]
     },
     "execution_count": 83,
     "metadata": {},
     "output_type": "execute_result"
    }
   ],
   "source": [
    "x.shape"
   ]
  },
  {
   "cell_type": "code",
   "execution_count": 84,
   "metadata": {},
   "outputs": [
    {
     "data": {
      "text/plain": [
       "10"
      ]
     },
     "execution_count": 84,
     "metadata": {},
     "output_type": "execute_result"
    }
   ],
   "source": [
    "len(cur_layer_input)"
   ]
  },
  {
   "cell_type": "code",
   "execution_count": 85,
   "metadata": {},
   "outputs": [
    {
     "data": {
      "text/plain": [
       "torch.Size([8, 16, 256, 256])"
      ]
     },
     "execution_count": 85,
     "metadata": {},
     "output_type": "execute_result"
    }
   ],
   "source": [
    "cur_layer_input[0].shape"
   ]
  },
  {
   "cell_type": "code",
   "execution_count": 70,
   "metadata": {},
   "outputs": [
    {
     "ename": "ValueError",
     "evalue": "too many values to unpack (expected 4)",
     "output_type": "error",
     "traceback": [
      "\u001b[0;31m---------------------------------------------------------------------------\u001b[0m",
      "\u001b[0;31mValueError\u001b[0m                                Traceback (most recent call last)",
      "Cell \u001b[0;32mIn[70], line 1\u001b[0m\n\u001b[0;32m----> 1\u001b[0m \u001b[43mmodel\u001b[49m\u001b[43m(\u001b[49m\u001b[43mx\u001b[49m\u001b[43m)\u001b[49m\n",
      "File \u001b[0;32m~/mambaforge/envs/mlpg/lib/python3.10/site-packages/torch/nn/modules/module.py:1501\u001b[0m, in \u001b[0;36mModule._call_impl\u001b[0;34m(self, *args, **kwargs)\u001b[0m\n\u001b[1;32m   1496\u001b[0m \u001b[38;5;66;03m# If we don't have any hooks, we want to skip the rest of the logic in\u001b[39;00m\n\u001b[1;32m   1497\u001b[0m \u001b[38;5;66;03m# this function, and just call forward.\u001b[39;00m\n\u001b[1;32m   1498\u001b[0m \u001b[38;5;28;01mif\u001b[39;00m \u001b[38;5;129;01mnot\u001b[39;00m (\u001b[38;5;28mself\u001b[39m\u001b[38;5;241m.\u001b[39m_backward_hooks \u001b[38;5;129;01mor\u001b[39;00m \u001b[38;5;28mself\u001b[39m\u001b[38;5;241m.\u001b[39m_backward_pre_hooks \u001b[38;5;129;01mor\u001b[39;00m \u001b[38;5;28mself\u001b[39m\u001b[38;5;241m.\u001b[39m_forward_hooks \u001b[38;5;129;01mor\u001b[39;00m \u001b[38;5;28mself\u001b[39m\u001b[38;5;241m.\u001b[39m_forward_pre_hooks\n\u001b[1;32m   1499\u001b[0m         \u001b[38;5;129;01mor\u001b[39;00m _global_backward_pre_hooks \u001b[38;5;129;01mor\u001b[39;00m _global_backward_hooks\n\u001b[1;32m   1500\u001b[0m         \u001b[38;5;129;01mor\u001b[39;00m _global_forward_hooks \u001b[38;5;129;01mor\u001b[39;00m _global_forward_pre_hooks):\n\u001b[0;32m-> 1501\u001b[0m     \u001b[38;5;28;01mreturn\u001b[39;00m \u001b[43mforward_call\u001b[49m\u001b[43m(\u001b[49m\u001b[38;5;241;43m*\u001b[39;49m\u001b[43margs\u001b[49m\u001b[43m,\u001b[49m\u001b[43m \u001b[49m\u001b[38;5;241;43m*\u001b[39;49m\u001b[38;5;241;43m*\u001b[39;49m\u001b[43mkwargs\u001b[49m\u001b[43m)\u001b[49m\n\u001b[1;32m   1502\u001b[0m \u001b[38;5;66;03m# Do not call functions when jit is used\u001b[39;00m\n\u001b[1;32m   1503\u001b[0m full_backward_hooks, non_full_backward_hooks \u001b[38;5;241m=\u001b[39m [], []\n",
      "Cell \u001b[0;32mIn[49], line 154\u001b[0m, in \u001b[0;36mConvLSTM.forward\u001b[0;34m(self, x, hidden_state)\u001b[0m\n\u001b[1;32m    151\u001b[0m cur_layer_input \u001b[38;5;241m=\u001b[39m torch\u001b[38;5;241m.\u001b[39munbind(x, dim\u001b[38;5;241m=\u001b[39m\u001b[38;5;241m1\u001b[39m)\n\u001b[1;32m    153\u001b[0m \u001b[38;5;28;01mif\u001b[39;00m hidden_state \u001b[38;5;129;01mis\u001b[39;00m \u001b[38;5;28;01mNone\u001b[39;00m:\n\u001b[0;32m--> 154\u001b[0m     hidden_state \u001b[38;5;241m=\u001b[39m \u001b[38;5;28;43mself\u001b[39;49m\u001b[38;5;241;43m.\u001b[39;49m\u001b[43mcells\u001b[49m\u001b[43m[\u001b[49m\u001b[38;5;241;43m0\u001b[39;49m\u001b[43m]\u001b[49m\u001b[38;5;241;43m.\u001b[39;49m\u001b[43minit_hidden\u001b[49m\u001b[43m(\u001b[49m\u001b[43mx\u001b[49m\u001b[43m)\u001b[49m\n\u001b[1;32m    156\u001b[0m h, c \u001b[38;5;241m=\u001b[39m hidden_state\n\u001b[1;32m    158\u001b[0m seq_len \u001b[38;5;241m=\u001b[39m \u001b[38;5;28mlen\u001b[39m(cur_layer_input)\n",
      "Cell \u001b[0;32mIn[49], line 92\u001b[0m, in \u001b[0;36mConvLSTMCell.init_hidden\u001b[0;34m(self, x)\u001b[0m\n\u001b[1;32m     83\u001b[0m \u001b[38;5;28;01mdef\u001b[39;00m \u001b[38;5;21minit_hidden\u001b[39m(\u001b[38;5;28mself\u001b[39m, x: torch\u001b[38;5;241m.\u001b[39mTensor) \u001b[38;5;241m-\u001b[39m\u001b[38;5;241m>\u001b[39m \u001b[38;5;28mtuple\u001b[39m[torch\u001b[38;5;241m.\u001b[39mTensor, torch\u001b[38;5;241m.\u001b[39mTensor]:\n\u001b[1;32m     84\u001b[0m \u001b[38;5;250m    \u001b[39m\u001b[38;5;124;03m\"\"\"\u001b[39;00m\n\u001b[1;32m     85\u001b[0m \u001b[38;5;124;03m    Initializes the hidden state\u001b[39;00m\n\u001b[1;32m     86\u001b[0m \u001b[38;5;124;03m    Args:\u001b[39;00m\n\u001b[0;32m   (...)\u001b[0m\n\u001b[1;32m     90\u001b[0m \u001b[38;5;124;03m        Tuple containing the hidden states\u001b[39;00m\n\u001b[1;32m     91\u001b[0m \u001b[38;5;124;03m    \"\"\"\u001b[39;00m\n\u001b[0;32m---> 92\u001b[0m     b, c, h, w \u001b[38;5;241m=\u001b[39m x\u001b[38;5;241m.\u001b[39msize()  \u001b[38;5;66;03m# c = 1 even if using grayscale inputs\u001b[39;00m\n\u001b[1;32m     93\u001b[0m     state \u001b[38;5;241m=\u001b[39m (\n\u001b[1;32m     94\u001b[0m         torch\u001b[38;5;241m.\u001b[39mzeros(b, \u001b[38;5;28mself\u001b[39m\u001b[38;5;241m.\u001b[39mhidden_channel, h, w),\n\u001b[1;32m     95\u001b[0m         torch\u001b[38;5;241m.\u001b[39mzeros(b, \u001b[38;5;28mself\u001b[39m\u001b[38;5;241m.\u001b[39mhidden_channel, h, w),\n\u001b[1;32m     96\u001b[0m     )\n\u001b[1;32m     97\u001b[0m     state \u001b[38;5;241m=\u001b[39m (state[\u001b[38;5;241m0\u001b[39m]\u001b[38;5;241m.\u001b[39mtype_as(x), state[\u001b[38;5;241m1\u001b[39m]\u001b[38;5;241m.\u001b[39mtype_as(x))\n",
      "\u001b[0;31mValueError\u001b[0m: too many values to unpack (expected 4)"
     ]
    }
   ],
   "source": [
    "model(x)"
   ]
  },
  {
   "cell_type": "code",
   "execution_count": null,
   "metadata": {},
   "outputs": [],
   "source": []
  }
 ],
 "metadata": {
  "kernelspec": {
   "display_name": "mlpg",
   "language": "python",
   "name": "python3"
  },
  "language_info": {
   "codemirror_mode": {
    "name": "ipython",
    "version": 3
   },
   "file_extension": ".py",
   "mimetype": "text/x-python",
   "name": "python",
   "nbconvert_exporter": "python",
   "pygments_lexer": "ipython3",
   "version": "3.10.12"
  }
 },
 "nbformat": 4,
 "nbformat_minor": 2
}
